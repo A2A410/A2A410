{
  "nbformat": 4,
  "nbformat_minor": 0,
  "metadata": {
    "colab": {
      "name": "Copy of Welcome To Colaboratory",
      "provenance": [],
      "collapsed_sections": [],
      "include_colab_link": true
    },
    "kernelspec": {
      "display_name": "Python 3",
      "name": "python3"
    }
  },
  "cells": [
    {
      "cell_type": "markdown",
      "metadata": {
        "id": "view-in-github",
        "colab_type": "text"
      },
      "source": [
        "<a href=\"https://colab.research.google.com/github/A2A410/A2A410/blob/main/VPS-plus-Google_Colab.ipynb\" target=\"_parent\"><img src=\"https://colab.research.google.com/assets/colab-badge.svg\" alt=\"Open In Colab\"/></a>"
      ]
    },
    {
      "cell_type": "markdown",
      "metadata": {
        "id": "5fCEDCU_qrC0"
      },
      "source": [
        "<p><img alt=\"Colaboratory logo\" height=\"45px\" src=\"/img/colab_favicon.ico\" align=\"left\" hspace=\"10px\" vspace=\"0px\"></p>\n",
        " \n",
        "<h1>Google Colab w/ VPS</h1>\n",
        " \n",
        "Colaboratory, or \"Colab\" for short, allows you to write and execute Python in your browser, with \n",
        "- Zero configuration required\n",
        "- Free 12 Hour GPU or CPU\n",
        "- Easy setup\n",
        "- VPS\n",
        " \n",
        "Whether you're a **student**, a **data scientist** or an **AI researcher**, this **VPS**  can help you but for only 12 hours. You can use my VPS, but some features i still under study."
      ]
    },
    {
      "cell_type": "code",
      "metadata": {
        "cellView": "form",
        "id": "CGDrm5Q4Q3HP"
      },
      "source": [
        "#@title **Create Host**\n",
        "#@markdown Enter Username and Password\n",
        " \n",
        "import os\n",
        " \n",
        "username = \"your-username-please\" #@param {type:\"string\"}\n",
        "password = \"your-password\" #@param {type:\"string\"}\n",
        " \n",
        "print(\"Waiting.\")\n",
        "sleep 0.5\n",
        "print(\"Waiting..\")\n",
        "sleep 0.5\n",
        "print(\"Waiting...\")\n",
        " \n",
        "# Creating username\n",
        "os.system(f\"useradd -m {username}\")\n",
        " \n",
        "sleep 0.2\n",
        "print(\"Processing\")\n",
        "sleep 0.2\n",
        " \n",
        "# Try to add user to sudo group\n",
        "os.system(f\"adduser {username} sudo\")\n",
        " \n",
        "sleep 0.2\n",
        "print(\"Processing.\")\n",
        "sleep 0.2\n",
        "    \n",
        "# Set password user to 'root'\n",
        "os.system(f\"echo '{username}:{password}' | sudo chpasswd\")\n",
        " \n",
        "sleep 0.2\n",
        "print(\"Merging\")\n",
        "sleep 0.2\n",
        " \n",
        "# Change default shell from sh to bash\n",
        "os.system(\"sed -i 's/\\/bin\\/sh/\\/bin\\/bash/g' /etc/passwd\")\n",
        " \n",
        "sleep 1\n",
        "print(\"#\")\n",
        "sleep 0.1\n",
        "print(\"##\")\n",
        "sleep 0.1\n",
        "print(\"###\")\n",
        "sleep 0.1\n",
        "print(\"####\")\n",
        "sleep 0.1\n",
        "print(\"#####\")\n",
        "sleep 0.1\n",
        "clear\n",
        " \n",
        "print(\"User Created and Configured\")"
      ],
      "execution_count": null,
      "outputs": []
    },
    {
      "cell_type": "code",
      "metadata": {
        "cellView": "form",
        "id": "8pzpPZSKT52g"
      },
      "source": [
        "#@title **VPS Setup**\n",
        "#@markdown Wait until it completed\n",
        " \n",
        "import os\n",
        "import subprocess\n",
        " \n",
        "#@markdown  Go to http://remotedesktop.google.com/headless \n",
        "#@markdown <br> Copy command Debian Linux\n",
        " \n",
        "CRP = \"\" #@param {type:\"string\"}\n",
        " \n",
        "#@markdown Enter a pin 6 digits\n",
        "Pin = 123456 #@param {type: \"integer\"}\n",
        " \n",
        " \n",
        "class CRD:\n",
        "    def __init__(self):\n",
        "        os.system(\"apt update\")\n",
        "        self.installCRD()\n",
        "        self.installDesktopEnvironment()\n",
        "        self.installGoogleChorme()\n",
        "        self.finish()\n",
        " \n",
        "    @staticmethod\n",
        "    def installCRD():\n",
        "        print(\"Installing Chrome Remote Desktop\")\n",
        "        subprocess.run(['wget', 'https://dl.google.com/linux/direct/chrome-remote-desktop_current_amd64.deb'], stdout=subprocess.PIPE)\n",
        "        subprocess.run(['dpkg', '--install', 'chrome-remote-desktop_current_amd64.deb'], stdout=subprocess.PIPE)\n",
        "        subprocess.run(['apt', 'install', '--assume-yes', '--fix-broken'], stdout=subprocess.PIPE)\n",
        " \n",
        "    @staticmethod\n",
        "    def installDesktopEnvironment():\n",
        "        print(\"Installing Desktop Environment\")\n",
        "        os.system(\"export DEBIAN_FRONTEND=noninteractive\")\n",
        "        os.system(\"apt install --assume-yes xfce4 desktop-base xfce4-terminal\")\n",
        "        os.system(\"bash -c 'echo \\\"exec /etc/X11/Xsession /usr/bin/xfce4-session\\\" > /etc/chrome-remote-desktop-session'\")\n",
        "        os.system(\"apt remove --assume-yes gnome-terminal\")\n",
        "        os.system(\"apt install --assume-yes xscreensaver\")\n",
        "        os.system(\"systemctl disable lightdm.service\")\n",
        " \n",
        "    @staticmethod\n",
        "    def installGoogleChorme():\n",
        "        print(\"Installing Google Chrome\")\n",
        "        subprocess.run([\"wget\", \"https://dl.google.com/linux/direct/google-chrome-stable_current_amd64.deb\"], stdout=subprocess.PIPE)\n",
        "        subprocess.run([\"dpkg\", \"--install\", \"google-chrome-stable_current_amd64.deb\"], stdout=subprocess.PIPE)\n",
        "        subprocess.run(['apt', 'install', '--assume-yes', '--fix-broken'], stdout=subprocess.PIPE)\n",
        " \n",
        "    @staticmethod\n",
        "    def finish():\n",
        "        print(\"Finalizing\")\n",
        "        os.system(f\"adduser {username} chrome-remote-desktop\")\n",
        "        command = f\"{CRP} --pin={Pin}\"\n",
        "        os.system(f\"su - {username} -c '{command}'\")\n",
        "        os.system(\"service chrome-remote-desktop start\")\n",
        "        print(\"Finished Succesfully\")\n",
        " \n",
        " \n",
        "try:\n",
        "    if username:\n",
        "        if CRP == \"\":\n",
        "            print(\"Please enter authcode from the given link\")\n",
        "        elif len(str(Pin)) < 6:\n",
        "            print(\"Enter a pin more or equal to 6 digits\")\n",
        "        else:\n",
        "            CRD()\n",
        "except NameError as e:\n",
        "    print(\"username variable not found\")\n",
        "    print(\"Create a User First\")"
      ],
      "execution_count": null,
      "outputs": []
    },
    {
      "cell_type": "code",
      "metadata": {
        "cellView": "form",
        "id": "_2Ma6MdCU4mb"
      },
      "source": [
        "#@title **Google Drive Mount**\n",
        "#@markdown Not Available, under Study.<br>\n",
        " \n",
        "sleep 1\n",
        "print(\"Coming Soon\")"
      ],
      "execution_count": null,
      "outputs": []
    },
    {
      "cell_type": "code",
      "metadata": {
        "cellView": "form",
        "id": "-c_cQwd7Vu2e"
      },
      "source": [
        "#@title **12 Hours, Google Colab Script**\n",
        "#@markdown Using this can keep Google Colab Online.<br>\n",
        " \n",
        "sleep 1\n",
        "print(\"Idling\")\n",
        "sleep 43200"
      ],
      "execution_count": null,
      "outputs": []
    }
  ]
}